{
 "cells": [
  {
   "cell_type": "code",
   "execution_count": 2,
   "metadata": {},
   "outputs": [
    {
     "name": "stdout",
     "output_type": "stream",
     "text": [
      "2\n",
      "3\n",
      "5\n",
      "7\n",
      "11\n",
      "13\n",
      "17\n",
      "19\n",
      "23\n",
      "29\n",
      "31\n",
      "37\n",
      "41\n",
      "43\n",
      "47\n",
      "53\n",
      "59\n",
      "61\n",
      "67\n",
      "71\n",
      "73\n",
      "79\n",
      "83\n",
      "89\n",
      "97\n"
     ]
    }
   ],
   "source": [
    "for n in range(2, 100):\n",
    "    if n == 2:\n",
    "        print(n)\n",
    "        continue\n",
    "    for i in range(2, n):\n",
    "        if (n % i) == 0:\n",
    "            break\n",
    "    else:\n",
    "        print(n) \n"
   ]
  },
  {
   "cell_type": "markdown",
   "metadata": {},
   "source": [
    "##  写一个投骰子赌大小的游戏"
   ]
  },
  {
   "cell_type": "markdown",
   "metadata": {},
   "source": [
    "规则如下：\n",
    "\n",
    ">* 每次计算机随机生成一个 `2... 12` 之间的整数，用来模拟机器人投两个骰子的情况；\n",
    "* 机器人和用户的起始资金都是 10 个硬币\n",
    "* 要求用户猜大小：\n",
    "    * 用户输入 `b` 代表 “大”；\n",
    "    * 用户输入 `s` 代表 “小”；\n",
    "    * 用户输入 `q` 代表 “退出”；\n",
    "* 用户的输入和随机产生的数字比较有以下几种情况：\n",
    "    * 随机数小于 `7`，用户猜小，用户赢；\n",
    "    * 随机数小于 `7`，用户猜大，用户输；\n",
    "    * 随机数等于 `7`，用户无论猜大还是猜小，结局平，不输不赢；\n",
    "    * 随机数大于 `7`，用户猜小，用户输；\n",
    "    * 随机数大于 `7`，用户猜大，用户赢；\n",
    "* 游戏结束条件：\n",
    "    * 机器人和用户，若任意一方硬币数量为 `0`，则游戏结束；\n",
    "    * 用户输入了 `q` 主动终止游戏。"
   ]
  },
  {
   "cell_type": "markdown",
   "metadata": {},
   "source": [
    "把以上这个程序写出来，这一张估计掌握得其实应该差不多了"
   ]
  },
  {
   "cell_type": "code",
   "execution_count": null,
   "metadata": {},
   "outputs": [],
   "source": [
    "from random import randrange\n",
    "\n",
    "coin_user, coin_bot = 10, 10 # 可以用一个赋值符号分别为多个变量赋值\n",
    "rounds_of_game = 0\n",
    "\n",
    "def bet(dice, wager):    # 接收两个参数，一个是骰子点数，另一个用户的输入\n",
    "    if dice == 7:\n",
    "        print(f'The dice is {dice};\\nDRAW!\\n') # \\n 是换行符号\n",
    "        return 0\n",
    "    elif dice < 7:\n",
    "        if wager == 's':\n",
    "            print(f'The dice is {dice};\\nYou WIN!\\n')\n",
    "            return 1\n",
    "        else:\n",
    "            print(f'The dice is {dice};\\nYou LOST!\\n')\n",
    "            return -1\n",
    "    elif dice > 7:\n",
    "        if wager == 's':\n",
    "            print(f'The dice is {dice};\\nYou LOST!\\n')\n",
    "            return -1\n",
    "        else:\n",
    "            print(f'The dice is {dice};\\nYou WIN!\\n')\n",
    "            return 1\n",
    "\n",
    "while True:         #  除 for 之外的另外一个循环语句\n",
    "    print(f'You: {coin_user}\\t Bot: {coin_bot}')\n",
    "    dice = randrange(2, 13)   # 生成一个 2 到 12 的随机数\n",
    "    wager = input(\"What's your bet? \")\n",
    "    if wager == 'q':\n",
    "        break \n",
    "    elif wager in 'bs':  # 只有当用户输入的是 b 或者 s 得时候，才 “掷骰子”……\n",
    "        result = bet(dice, wager)\n",
    "        coin_user += result    # coin_user += result 相当于 coin_user = coin_user + result\n",
    "        coin_bot -= result\n",
    "        rounds_of_game += 1\n",
    "    if coin_user == 0:\n",
    "        print(\"Woops, you've LOST ALL, and game over!\")\n",
    "        break\n",
    "    elif coin_bot == 0:\n",
    "        print(\"Woops, the robot's LOST ALL, and game over!\")\n",
    "        break\n",
    "   \n",
    "print(f\"You've played {rounds_of_game} rounds.\\n\")\n",
    "print(f\"You have {coin_user} coins now.\\nBye!\")"
   ]
  },
  {
   "cell_type": "markdown",
   "metadata": {},
   "source": [
    "```flow\n",
    "st=>start: 开始\n",
    "op=>operation: My Operation\n",
    "cond=>condition: Yes or No?\n",
    "e=>end\n",
    "st->op->cond\n",
    "cond(yes)->e\n",
    "cond(no)->op\n",
    "```\n",
    "\n",
    "不行呢，根本不能生成流程图呀\n"
   ]
  },
  {
   "cell_type": "markdown",
   "metadata": {},
   "source": [
    "![测试图片](/Users/cat/Desktop/WechatIMG1692.png)"
   ]
  },
  {
   "cell_type": "markdown",
   "metadata": {},
   "source": [
    "![网络图片](https://hbimg.huabanimg.com/4ea568173a8c587982c86f9abc2c5f65778fd8e358c4e-0WbI7I_fw658)"
   ]
  },
  {
   "cell_type": "code",
   "execution_count": null,
   "metadata": {},
   "outputs": [],
   "source": [
    "为什么网络地址就可以呢，我的本地地址的图片却无法插入。"
   ]
  },
  {
   "cell_type": "markdown",
   "metadata": {},
   "source": [
    "![本地图片](../../WechatIMG1692.png)"
   ]
  },
  {
   "cell_type": "markdown",
   "metadata": {},
   "source": [
    "为什么还是无法插入图片呢？"
   ]
  },
  {
   "cell_type": "code",
   "execution_count": null,
   "metadata": {},
   "outputs": [],
   "source": []
  },
  {
   "cell_type": "markdown",
   "metadata": {},
   "source": [
    "- 一级标题\n",
    "\n",
    "    - 二级标题\n",
    "    - 二级标题"
   ]
  },
  {
   "cell_type": "markdown",
   "metadata": {},
   "source": [
    "表头|表头|表头|\n",
    "---|:---|:---|\n",
    "1|1|1|\n",
    "2|2|2|"
   ]
  },
  {
   "cell_type": "code",
   "execution_count": null,
   "metadata": {},
   "outputs": [],
   "source": []
  },
  {
   "cell_type": "code",
   "execution_count": null,
   "metadata": {},
   "outputs": [],
   "source": []
  },
  {
   "cell_type": "code",
   "execution_count": null,
   "metadata": {},
   "outputs": [],
   "source": []
  },
  {
   "cell_type": "code",
   "execution_count": null,
   "metadata": {},
   "outputs": [],
   "source": []
  },
  {
   "cell_type": "code",
   "execution_count": null,
   "metadata": {},
   "outputs": [],
   "source": []
  }
 ],
 "metadata": {
  "kernelspec": {
   "display_name": "Python 3",
   "language": "python",
   "name": "python3"
  },
  "language_info": {
   "codemirror_mode": {
    "name": "ipython",
    "version": 3
   },
   "file_extension": ".py",
   "mimetype": "text/x-python",
   "name": "python",
   "nbconvert_exporter": "python",
   "pygments_lexer": "ipython3",
   "version": "3.7.1"
  }
 },
 "nbformat": 4,
 "nbformat_minor": 2
}
