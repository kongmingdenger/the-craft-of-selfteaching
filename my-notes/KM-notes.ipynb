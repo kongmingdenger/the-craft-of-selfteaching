{
 "cells": [
  {
   "cell_type": "markdown",
   "metadata": {},
   "source": [
    "# 常用的东东"
   ]
  },
  {
   "cell_type": "markdown",
   "metadata": {},
   "source": [
    "学习python的notes"
   ]
  },
  {
   "cell_type": "markdown",
   "metadata": {},
   "source": [
    "## 一些快捷键"
   ]
  },
  {
   "cell_type": "markdown",
   "metadata": {},
   "source": [
    "shift + enter      #执行以上程序"
   ]
  },
  {
   "cell_type": "markdown",
   "metadata": {},
   "source": [
    "option + enter    #换到下一行"
   ]
  },
  {
   "cell_type": "markdown",
   "metadata": {},
   "source": [
    "`ESC`，确保已经进入命令模式， `⇧ L` 可以切换是否显示代码行号"
   ]
  },
  {
   "cell_type": "markdown",
   "metadata": {},
   "source": [
    "##  一些常用的网址："
   ]
  },
  {
   "cell_type": "markdown",
   "metadata": {},
   "source": [
    "\n",
    "> * 关于表达式：https://docs.python.org/3/reference/expressions.html\n",
    "> * 关于所有操作的优先级：https://docs.python.org/3/reference/expressions.html#operator-precedence\n",
    "> * 上一条链接不懂 BNF 的话根本读不懂：https://en.wikipedia.org/wiki/Backus-Naur_form\n",
    "> * Python 的内建函数：https://docs.python.org/3/library/functions.html\n",
    "> * Python 的标准数据类型：https://docs.python.org/3/library/stdtypes.html\n",
    "\n",
    "另外，其实所有的操作符，在 Python 内部也是调用函数完成的……\n",
    "\n",
    "> https://docs.python.org/3.7/library/operator.html"
   ]
  },
  {
   "cell_type": "markdown",
   "metadata": {},
   "source": [
    "# 第一章"
   ]
  },
  {
   "cell_type": "markdown",
   "metadata": {},
   "source": [
    "## 逻辑运算操作符"
   ]
  },
  {
   "cell_type": "markdown",
   "metadata": {},
   "source": [
    "| 比较操作符 | 意义     | 示例             | 布尔值  |\n",
    "| ---------- | -------- | ---------------- | ------- |\n",
    "| `==`       | 等于     | `1 == 2`         | `False` |\n",
    "| `!=`       | 不等于    | `1 != 2`         | `True`  |\n",
    "| `>`        | 大于     | `1 > 2`          | `False` |\n",
    "| `>=`       | 大于等于  | `1 >= 1`         | `True`  |\n",
    "| `<`        | 小于     | `1 < 2`          | `True`  |\n",
    "| `<=`       | 小于等于 | `1 <= 2`         | `True`  |\n",
    "| `in`       | 属于     | `'a' in 'basic'` | `True`  |\n"
   ]
  },
  {
   "cell_type": "markdown",
   "metadata": {},
   "source": [
    "## 布尔运算操作符"
   ]
  },
  {
   "cell_type": "markdown",
   "metadata": {},
   "source": [
    "and"
   ]
  },
  {
   "cell_type": "markdown",
   "metadata": {},
   "source": [
    "or"
   ]
  },
  {
   "cell_type": "markdown",
   "metadata": {},
   "source": [
    "not"
   ]
  },
  {
   "cell_type": "code",
   "execution_count": 7,
   "metadata": {},
   "outputs": [
    {
     "name": "stdout",
     "output_type": "stream",
     "text": [
      "(True and False) yields: False\n",
      "(True and True) yields: True\n",
      "(False and True) yields: False\n",
      "(True or False) yields: True\n",
      "(False or True) yields: True\n",
      "(False or False) yields: False\n",
      "(not True) yields: True\n"
     ]
    }
   ],
   "source": [
    "print('(True and False) yields:',  True and False)\n",
    "print('(True and True) yields:',  True and True)\n",
    "print('(False and True) yields:',  False and True)\n",
    "print('(True or False) yields:',  True or False)\n",
    "print('(False or True) yields:',  False or True)\n",
    "print('(False or False) yields:',  False or False)\n",
    "print('(not True) yields:',  not False)"
   ]
  },
  {
   "cell_type": "code",
   "execution_count": 21,
   "metadata": {},
   "outputs": [
    {
     "name": "stdout",
     "output_type": "stream",
     "text": [
      "0\n",
      "2\n",
      "4\n",
      "6\n",
      "8\n"
     ]
    }
   ],
   "source": [
    "for i  in range(10):  #一定要打冒号，前两次没有打冒号，一直识别不出来\n",
    "    if i % 2 == 0:    #这一行也是，一定要打冒号，不然识别不出来\n",
    "        print(i)"
   ]
  },
  {
   "cell_type": "markdown",
   "metadata": {},
   "source": [
    "## 流程控制"
   ]
  },
  {
   "cell_type": "markdown",
   "metadata": {},
   "source": [
    "if……else       # 进行流程控制，并通过此方式实现分支功能"
   ]
  },
  {
   "cell_type": "markdown",
   "metadata": {},
   "source": [
    "## 函数"
   ]
  },
  {
   "cell_type": "markdown",
   "metadata": {},
   "source": [
    "以后来增加经常可能会用的已有的函数"
   ]
  },
  {
   "cell_type": "markdown",
   "metadata": {},
   "source": [
    "## 语句块"
   ]
  },
  {
   "cell_type": "markdown",
   "metadata": {},
   "source": [
    "![](images/python-leading-space.png)   \n",
    "\n",
    "这个地方后面去搜索下看看markdown如何插入图片，我插入的怎么就不行呢？"
   ]
  },
  {
   "cell_type": "markdown",
   "metadata": {},
   "source": [
    "# 值以及相应的运算"
   ]
  },
  {
   "cell_type": "markdown",
   "metadata": {},
   "source": [
    "## 计算机程序有两个基本部分组成：\n",
    "> 运算\n",
    "\n",
    "> 流程控制"
   ]
  },
  {
   "cell_type": "markdown",
   "metadata": {},
   "source": [
    "在程序中，被运算的可分为**常量**（Literals）和**变量**（Variables），他们通过**操作符**来进行运算"
   ]
  },
  {
   "cell_type": "markdown",
   "metadata": {},
   "source": [
    "## 值有三种类型：\n",
    "\n",
    "> * 布尔值（Boolean Value)\n",
    "> * 数字（Numbers）：整数（Int）、浮点数（Float）、复数（Complex Numbers）\n",
    "> * 字符串（Strings）\n",
    "\n",
    "既然有不同类型的数据，它们就分别对应着不同类型的值。"
   ]
  },
  {
   "cell_type": "markdown",
   "metadata": {},
   "source": [
    "**运算的一个默认法则就是，通常情况下应该是相同类型的值才能相互运算**"
   ]
  },
  {
   "cell_type": "markdown",
   "metadata": {},
   "source": [
    "由于上一条，值的转换通过一些函数来实现，**Type Casting**（类型转换）"
   ]
  },
  {
   "cell_type": "markdown",
   "metadata": {},
   "source": [
    "> * 将字符串转换为数字用 `int()`、`float()`；\n",
    "> * 将数字转换成字符串用 `str()`；\n",
    "> * 将整数转换成浮点数字用 `float()`；\n",
    "> * 将浮点数字转换成整数用 `int()`；\n",
    "> * 更多的相关转换函数之后进行搜集，并且可以通过python的内置函数来查询；"
   ]
  },
  {
   "cell_type": "markdown",
   "metadata": {},
   "source": [
    "## 值的补充：若干数据类型"
   ]
  },
  {
   "cell_type": "markdown",
   "metadata": {},
   "source": [
    "除了上一节讲到值分为三种类型外，还有一个补充是数据类型"
   ]
  },
  {
   "cell_type": "markdown",
   "metadata": {},
   "source": [
    "> * 数据类型包含以下(很多类型)：list（列表、）、range()（等差数列）、tuple（元组）、set（集合）、dictionary（字典），再比如 Date Type（日期）等等"
   ]
  },
  {
   "cell_type": "markdown",
   "metadata": {},
   "source": [
    "## 操作符的类型"
   ]
  },
  {
   "cell_type": "markdown",
   "metadata": {},
   "source": [
    "### 数值操作符"
   ]
  },
  {
   "cell_type": "markdown",
   "metadata": {},
   "source": [
    "> * 数值操作符有哪些：加减乘除商余幂 `+`、`-`、`*`、`/`、`//`、`%`、`**`\n",
    "> * 适用范围：针对数字进行计算\n",
    "> * 优先级：（跟数学一样）\n",
    "\n",
    ">>第一优先级：`**`\n",
    "\n",
    ">>第二优先级：`*`、`/`、`//`、`%`\n",
    "\n",
    ">>第三优先级：`+`、`-`\n",
    "\n",
    "> 详细的可以见官方文档：https://docs.python.org/3/reference/expressions.html#operator-precedence"
   ]
  },
  {
   "cell_type": "markdown",
   "metadata": {},
   "source": [
    "### 布尔值操作符"
   ]
  },
  {
   "cell_type": "markdown",
   "metadata": {},
   "source": [
    "> * 布尔值的操作符：and、or、not；\n",
    "> * 适用范围：针对布尔值进行运算；\n",
    "> * 优先级：\n",
    "> > * 第一优先级：not；\n",
    "> > * 第二优先级：or；\n",
    "> > * 第三优先级：and；"
   ]
  },
  {
   "cell_type": "markdown",
   "metadata": {},
   "source": [
    "### 逻辑操作符"
   ]
  },
  {
   "cell_type": "markdown",
   "metadata": {},
   "source": [
    "> * 逻辑操作符：`<`、`<=`、`>`、`>=`、`!=`（不等于）、`==`（等于）\n",
    "> * 适用范围：针对数值进行运算，得出布尔值（false/true）\n",
    "> * 优先级：\n",
    "> > * 第一优先级：数值计算的操作符优先级最高\n",
    "> > * 第二优先级：逻辑操作符\n",
    "> > * 第三优先级：布尔值的操作符"
   ]
  },
  {
   "cell_type": "markdown",
   "metadata": {},
   "source": [
    "### 字符操作符"
   ]
  },
  {
   "cell_type": "markdown",
   "metadata": {},
   "source": [
    "针对字符串，有三种操作：\n",
    "\n",
    "> * 拼接：`+` 和 `' '`（后者是空格）\n",
    "> * 拷贝：`*`\n",
    "> * 逻辑运算：`in`、`not in`；以及，`<`、`<=`、`>`、`>=`、`!=`、`==` \n",
    ">> * 逻辑运算中，从第一个字符开始比较，是将字符对应的Unicode表进行逻辑运算对比。"
   ]
  },
  {
   "cell_type": "markdown",
   "metadata": {},
   "source": [
    "### 列表操作符"
   ]
  },
  {
   "cell_type": "markdown",
   "metadata": {},
   "source": [
    "列表操作符其实跟字符操作符一样，也是那三种操作方式，不同的是，不是将字符进行对比，而是将列表中的值进行运算操作\n",
    "\n",
    "> * 拼接：`+` 和 `' '`（后者是空格）\n",
    "> * 拷贝：`*`\n",
    "> * 逻辑运算：`in`、`not in`；以及，`<`、`<=`、`>`、`>=`、`!=`、`==` "
   ]
  },
  {
   "cell_type": "markdown",
   "metadata": {},
   "source": [
    "## 更复杂的运算"
   ]
  },
  {
   "cell_type": "markdown",
   "metadata": {},
   "source": [
    "调用函数进行运算，python有许多内置函数，以及可以自行定义一个函数，通过将函数进行组合进行运算是更为复杂的运算。"
   ]
  }
 ],
 "metadata": {
  "kernelspec": {
   "display_name": "Python 3",
   "language": "python",
   "name": "python3"
  },
  "language_info": {
   "codemirror_mode": {
    "name": "ipython",
    "version": 3
   },
   "file_extension": ".py",
   "mimetype": "text/x-python",
   "name": "python",
   "nbconvert_exporter": "python",
   "pygments_lexer": "ipython3",
   "version": "3.7.1"
  }
 },
 "nbformat": 4,
 "nbformat_minor": 2
}
