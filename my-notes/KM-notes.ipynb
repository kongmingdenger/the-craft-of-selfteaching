{
 "cells": [
  {
   "cell_type": "markdown",
   "metadata": {},
   "source": [
    "# 常用的东东"
   ]
  },
  {
   "cell_type": "markdown",
   "metadata": {},
   "source": [
    "学习python的notes"
   ]
  },
  {
   "cell_type": "markdown",
   "metadata": {},
   "source": [
    "## 一些快捷键"
   ]
  },
  {
   "cell_type": "markdown",
   "metadata": {},
   "source": [
    "shift + enter      #执行以上程序"
   ]
  },
  {
   "cell_type": "markdown",
   "metadata": {},
   "source": [
    "option + enter    #换到下一行"
   ]
  },
  {
   "cell_type": "markdown",
   "metadata": {},
   "source": [
    "`ESC`，确保已经进入命令模式， `⇧ L` 可以切换是否显示代码行号"
   ]
  },
  {
   "cell_type": "markdown",
   "metadata": {},
   "source": [
    "##  一些常用的网址："
   ]
  },
  {
   "cell_type": "markdown",
   "metadata": {},
   "source": [
    "\n",
    "> * 关于表达式：https://docs.python.org/3/reference/expressions.html\n",
    "> * 关于所有操作的优先级：https://docs.python.org/3/reference/expressions.html#operator-precedence\n",
    "> * 上一条链接不懂 BNF 的话根本读不懂：https://en.wikipedia.org/wiki/Backus-Naur_form\n",
    "> * Python 的内建函数：https://docs.python.org/3/library/functions.html\n",
    "> * Python 的标准数据类型：https://docs.python.org/3/library/stdtypes.html\n",
    "\n",
    "另外，其实所有的操作符，在 Python 内部也是调用函数完成的……\n",
    "\n",
    "> https://docs.python.org/3.7/library/operator.html"
   ]
  },
  {
   "cell_type": "markdown",
   "metadata": {},
   "source": [
    "# 第一章"
   ]
  },
  {
   "cell_type": "markdown",
   "metadata": {},
   "source": [
    "## 逻辑运算操作符"
   ]
  },
  {
   "cell_type": "markdown",
   "metadata": {},
   "source": [
    "| 比较操作符 | 意义     | 示例             | 布尔值  |\n",
    "| ---------- | -------- | ---------------- | ------- |\n",
    "| `==`       | 等于     | `1 == 2`         | `False` |\n",
    "| `!=`       | 不等于    | `1 != 2`         | `True`  |\n",
    "| `>`        | 大于     | `1 > 2`          | `False` |\n",
    "| `>=`       | 大于等于  | `1 >= 1`         | `True`  |\n",
    "| `<`        | 小于     | `1 < 2`          | `True`  |\n",
    "| `<=`       | 小于等于 | `1 <= 2`         | `True`  |\n",
    "| `in`       | 属于     | `'a' in 'basic'` | `True`  |\n"
   ]
  },
  {
   "cell_type": "markdown",
   "metadata": {},
   "source": [
    "## 布尔运算操作符"
   ]
  },
  {
   "cell_type": "markdown",
   "metadata": {},
   "source": [
    "and"
   ]
  },
  {
   "cell_type": "markdown",
   "metadata": {},
   "source": [
    "or"
   ]
  },
  {
   "cell_type": "markdown",
   "metadata": {},
   "source": [
    "not"
   ]
  },
  {
   "cell_type": "code",
   "execution_count": 7,
   "metadata": {},
   "outputs": [
    {
     "name": "stdout",
     "output_type": "stream",
     "text": [
      "(True and False) yields: False\n",
      "(True and True) yields: True\n",
      "(False and True) yields: False\n",
      "(True or False) yields: True\n",
      "(False or True) yields: True\n",
      "(False or False) yields: False\n",
      "(not True) yields: True\n"
     ]
    }
   ],
   "source": [
    "print('(True and False) yields:',  True and False)\n",
    "print('(True and True) yields:',  True and True)\n",
    "print('(False and True) yields:',  False and True)\n",
    "print('(True or False) yields:',  True or False)\n",
    "print('(False or True) yields:',  False or True)\n",
    "print('(False or False) yields:',  False or False)\n",
    "print('(not True) yields:',  not False)"
   ]
  },
  {
   "cell_type": "code",
   "execution_count": 21,
   "metadata": {},
   "outputs": [
    {
     "name": "stdout",
     "output_type": "stream",
     "text": [
      "0\n",
      "2\n",
      "4\n",
      "6\n",
      "8\n"
     ]
    }
   ],
   "source": [
    "for i  in range(10):  #一定要打冒号，前两次没有打冒号，一直识别不出来\n",
    "    if i % 2 == 0:    #这一行也是，一定要打冒号，不然识别不出来\n",
    "        print(i)"
   ]
  },
  {
   "cell_type": "markdown",
   "metadata": {},
   "source": [
    "## 流程控制"
   ]
  },
  {
   "cell_type": "markdown",
   "metadata": {},
   "source": [
    "if……else       # 进行流程控制，并通过此方式实现分支功能"
   ]
  },
  {
   "cell_type": "markdown",
   "metadata": {},
   "source": [
    "## 函数"
   ]
  },
  {
   "cell_type": "markdown",
   "metadata": {},
   "source": [
    "以后来增加经常可能会用的已有的函数"
   ]
  },
  {
   "cell_type": "markdown",
   "metadata": {},
   "source": [
    "## 语句块"
   ]
  },
  {
   "cell_type": "markdown",
   "metadata": {},
   "source": [
    "![](images/python-leading-space.png)   \n",
    "\n",
    "这个地方后面去搜索下看看markdown如何插入图片，我插入的怎么就不行呢？"
   ]
  },
  {
   "cell_type": "markdown",
   "metadata": {},
   "source": [
    "# 值以及相应的运算"
   ]
  },
  {
   "cell_type": "markdown",
   "metadata": {},
   "source": [
    "## 计算机程序有两个基本部分组成：\n",
    "> 运算\n",
    "\n",
    "> 流程控制"
   ]
  },
  {
   "cell_type": "markdown",
   "metadata": {},
   "source": [
    "在程序中，被运算的可分为**常量**（Literals）和**变量**（Variables），他们通过**操作符**来进行运算"
   ]
  },
  {
   "cell_type": "markdown",
   "metadata": {},
   "source": [
    "## 值有三种类型：\n",
    "\n",
    "> * 布尔值（Boolean Value)\n",
    "> * 数字（Numbers）：整数（Int）、浮点数（Float）、复数（Complex Numbers）\n",
    "> * 字符串（Strings）\n",
    "\n",
    "既然有不同类型的数据，它们就分别对应着不同类型的值。"
   ]
  },
  {
   "cell_type": "markdown",
   "metadata": {},
   "source": [
    "**运算的一个默认法则就是，通常情况下应该是相同类型的值才能相互运算**"
   ]
  },
  {
   "cell_type": "markdown",
   "metadata": {},
   "source": [
    "由于上一条，值的转换通过一些函数来实现，**Type Casting**（类型转换）"
   ]
  },
  {
   "cell_type": "markdown",
   "metadata": {},
   "source": [
    "> * 将字符串转换为数字用 `int()`、`float()`；\n",
    "> * 将数字转换成字符串用 `str()`；\n",
    "> * 将整数转换成浮点数字用 `float()`；\n",
    "> * 将浮点数字转换成整数用 `int()`；\n",
    "> * 更多的相关转换函数之后进行搜集，并且可以通过python的内置函数来查询；"
   ]
  },
  {
   "cell_type": "markdown",
   "metadata": {},
   "source": [
    "## 值的补充：若干数据类型"
   ]
  },
  {
   "cell_type": "markdown",
   "metadata": {},
   "source": [
    "除了上一节讲到值分为三种类型外，还有一个补充是数据类型"
   ]
  },
  {
   "cell_type": "markdown",
   "metadata": {},
   "source": [
    "> * 数据类型包含以下(很多类型)：list（列表、）、range()（等差数列）、tuple（元组）、set（集合）、dictionary（字典），再比如 Date Type（日期）等等"
   ]
  },
  {
   "cell_type": "markdown",
   "metadata": {},
   "source": [
    "## 操作符的类型"
   ]
  },
  {
   "cell_type": "markdown",
   "metadata": {},
   "source": [
    "### 数值操作符"
   ]
  },
  {
   "cell_type": "markdown",
   "metadata": {},
   "source": [
    "> * 数值操作符有哪些：加减乘除商余幂 `+`、`-`、`*`、`/`、`//`、`%`、`**`\n",
    "> * 适用范围：针对数字进行计算\n",
    "> * 优先级：（跟数学一样）\n",
    "\n",
    ">>第一优先级：`**`\n",
    "\n",
    ">>第二优先级：`*`、`/`、`//`、`%`\n",
    "\n",
    ">>第三优先级：`+`、`-`\n",
    "\n",
    "> 详细的可以见官方文档：https://docs.python.org/3/reference/expressions.html#operator-precedence"
   ]
  },
  {
   "cell_type": "markdown",
   "metadata": {},
   "source": [
    "### 布尔值操作符"
   ]
  },
  {
   "cell_type": "markdown",
   "metadata": {},
   "source": [
    "> * 布尔值的操作符：and、or、not；\n",
    "> * 适用范围：针对布尔值进行运算；\n",
    "> * 优先级：\n",
    "> > * 第一优先级：not；\n",
    "> > * 第二优先级：or；\n",
    "> > * 第三优先级：and；"
   ]
  },
  {
   "cell_type": "markdown",
   "metadata": {},
   "source": [
    "### 逻辑操作符"
   ]
  },
  {
   "cell_type": "markdown",
   "metadata": {},
   "source": [
    "> * 逻辑操作符：`<`、`<=`、`>`、`>=`、`!=`（不等于）、`==`（等于）\n",
    "> * 适用范围：针对数值进行运算，得出布尔值（false/true）\n",
    "> * 优先级：\n",
    "> > * 第一优先级：数值计算的操作符优先级最高\n",
    "> > * 第二优先级：逻辑操作符\n",
    "> > * 第三优先级：布尔值的操作符"
   ]
  },
  {
   "cell_type": "markdown",
   "metadata": {},
   "source": [
    "### 字符操作符"
   ]
  },
  {
   "cell_type": "markdown",
   "metadata": {},
   "source": [
    "针对字符串，有三种操作：\n",
    "\n",
    "> * 拼接：`+` 和 `' '`（后者是空格）\n",
    "> * 拷贝：`*`\n",
    "> * 逻辑运算：`in`、`not in`；以及，`<`、`<=`、`>`、`>=`、`!=`、`==` \n",
    ">> * 逻辑运算中，从第一个字符开始比较，是将字符对应的Unicode表进行逻辑运算对比。"
   ]
  },
  {
   "cell_type": "markdown",
   "metadata": {},
   "source": [
    "### 列表操作符"
   ]
  },
  {
   "cell_type": "markdown",
   "metadata": {},
   "source": [
    "列表操作符其实跟字符操作符一样，也是那三种操作方式，不同的是，不是将字符进行对比，而是将列表中的值进行运算操作\n",
    "\n",
    "> * 拼接：`+` 和 `' '`（后者是空格）\n",
    "> * 拷贝：`*`\n",
    "> * 逻辑运算：`in`、`not in`；以及，`<`、`<=`、`>`、`>=`、`!=`、`==` "
   ]
  },
  {
   "cell_type": "markdown",
   "metadata": {},
   "source": [
    "## 更复杂的运算"
   ]
  },
  {
   "cell_type": "markdown",
   "metadata": {},
   "source": [
    "# 流程控制"
   ]
  },
  {
   "cell_type": "markdown",
   "metadata": {},
   "source": [
    "有控制流，才能算得上是程序。\n",
    "\n",
    "> * 只处理一种情况，用 `if ... `\n",
    "> * 处理 `True`/`False` 两种情况，用 `if ... else ...`\n",
    "> * 处理多种情况，用 `if ... elif ... elif ... else ...`\n",
    "> * 迭代有序数据类型，用 `for ... in ...`，如果需要处理没有 `break` 发生的情况，用 `for ... else ...`\n",
    "> * 其它循环，用 `while ...`\n",
    "> * 与循环相关的语句还有 `continue`、`break`、`pass`\n",
    "> * 函数从控制流角度去看其实就是子程序"
   ]
  },
  {
   "cell_type": "markdown",
   "metadata": {},
   "source": [
    "# 函数"
   ]
  },
  {
   "cell_type": "markdown",
   "metadata": {},
   "source": [
    "> * 你可以把函数当作一个产品，而你自己是这个产品的用户；\n",
    "> * 既然你是产品的用户，你要养成好习惯，一定要亲自阅读产品说明书；\n",
    "> * 调用函数的时候，注意*可选位置参数的使用方法*和*关键字参数的默认值*；\n",
    "> * 函数定义部分，注意两个符号就行了，`[]` 和 `=`；\n",
    "> * 所有的函数都有返回值，即便它内部不指定返回值，也有一个默认返回值：`None`；\n",
    "> * 另外，一定要耐心阅读该函数在使用的时候需要注意什么 —— 产品说明书的主要作用就在这里……"
   ]
  },
  {
   "cell_type": "markdown",
   "metadata": {},
   "source": [
    "这就好像你拿着一张地图，不可能一下子掌握其中所有的细节，但花几分钟搞清楚 “图例”（Legend）部分总是可以的，知道什么样的线标示的是公交车，什么样的线标示的是地铁，什么样的线标示的是桥梁，然后知道上北下南左西右东 —— 这之后，就可以开始慢慢研究地图了……\n",
    "\n",
    "为了学会使用 Python，你以后最常访问的页面一定是这个：\n",
    "\n",
    "> * https://docs.python.org/3/library/index.html\n",
    ">\n",
    ">   而最早反复阅读查询的页面肯定是其中的这两个：\n",
    ">   * https://docs.python.org/3/library/functions.html\n",
    ">   * https://docs.python.org/3/library/stdtypes.html\n",
    "\n",
    "对了，还有就是，在这一章之后，你已经基本上 “**精通**” 了 `print()` 这个函数的用法。"
   ]
  },
  {
   "cell_type": "markdown",
   "metadata": {},
   "source": [
    "#### print（）函数"
   ]
  },
  {
   "cell_type": "code",
   "execution_count": null,
   "metadata": {},
   "outputs": [],
   "source": [
    "print(*object, sep=' ', end='\\n', file=sys.stdout, flush=False)  #这是这个函数的定义"
   ]
  },
  {
   "cell_type": "markdown",
   "metadata": {},
   "source": [
    "> * *object, object前面有“*”代表可以接受很多个参数。\n",
    "> * `sep=' '`：接收多个参数之后，输出时，分隔符号默认为空格，`' '`；\n",
    "> * `end='\\n'`：输出行的末尾默认是换行符号 `'\\n'`；\n",
    "> * `file=sys.stdout`：默认的输出对象是 `sys.stdout`（即，用户正在使用的屏幕）……，如果将这个file的值改为一个文件，其实也就是相当于往那个文件里面输出值，这里默认的是在屏幕上输出。**要通过官方文档才能看到这些细节上的东西**"
   ]
  },
  {
   "cell_type": "code",
   "execution_count": null,
   "metadata": {},
   "outputs": [],
   "source": [
    "import sys                                  # 如果没有这一行，代码会报错\n",
    "\n",
    "print('Hello', 'world!')                    # 下一行的输出和这一行相同\n",
    "print('Hello', 'world!', sep=' ', end='\\n', file=sys.stdout, flush=False)\n",
    "print('Hello', 'world!', sep='-', end='\\t')\n",
    "print('Hello', 'world!', sep='~')           # 上一行的末尾是 \\t，所以，这一行并没有换行显示\n",
    "print('Hello', 'world!', sep='\\n')          # 参数之间用换行 \\n 分隔 "
   ]
  },
  {
   "cell_type": "code",
   "execution_count": null,
   "metadata": {},
   "outputs": [],
   "source": [
    "print('line 1st')\n",
    "print('line 2nd')\n",
    "print()                 #不给参数就将会直接得出一个空格\n",
    "print('line 4th')"
   ]
  },
  {
   "cell_type": "code",
   "execution_count": null,
   "metadata": {},
   "outputs": [],
   "source": [
    "print('Hello,', 'jack', 'mike', '...', 'and all you guys!')  #参数之间通过逗号来隔开"
   ]
  },
  {
   "cell_type": "code",
   "execution_count": null,
   "metadata": {},
   "outputs": [],
   "source": [
    "name = 'Ann'\n",
    "age = '22'\n",
    "print(f'{name} is {age} years old.')      # 我们想把变量或者表达式的值插入字符串中的时候，可以用 f-string"
   ]
  },
  {
   "cell_type": "markdown",
   "metadata": {},
   "source": [
    "#### 函数的参数有两种"
   ]
  },
  {
   "cell_type": "markdown",
   "metadata": {},
   "source": [
    "> * **位置参数**（Positional Arguments，在官方文档里常被缩写为 *arg*）  \n",
    "> * **关键字参数**（Keyword Arguments，在官方文档里常被缩写为 *kwarg*）  即一般来说是函数中通过“=”定义好的默认值"
   ]
  },
  {
   "cell_type": "markdown",
   "metadata": {},
   "source": [
    "**关键字参数**\n",
    "\n",
    "如果不对关键字参数进行设置，那就为默认值。"
   ]
  },
  {
   "cell_type": "markdown",
   "metadata": {},
   "source": [
    "**位置参数**\n",
    "\n",
    "即，由位置决定的参数。以 divmod() 为例"
   ]
  },
  {
   "cell_type": "code",
   "execution_count": null,
   "metadata": {},
   "outputs": [],
   "source": [
    "from IPython.core.interactiveshell import InteractiveShell\n",
    "InteractiveShell.ast_node_interactivity = \"all\"\n",
    "\n",
    "divmod(11, 3)\n",
    "a, b = divmod(11, 3)\n",
    "a\n",
    "b\n",
    "\n",
    "divmod(3, 11)\n",
    "a, b = divmod(3, 11)\n",
    "a\n",
    "b"
   ]
  },
  {
   "cell_type": "markdown",
   "metadata": {},
   "source": [
    "**可选位置参数**\n",
    "\n",
    "即，有一个值的位置，如果你写了，那就按照那个方式来算，没写就不算到那一步。以pow() 为例\n",
    "\n",
    "pow（）实质是pow(x,y[,z])，其代表的含义是:\n",
    "> * `pow(x, y)` —— 返回值是 `x ** y`\n",
    "> * `pow(x, y, z)` —— 返回值是 `x ** y % z`"
   ]
  },
  {
   "cell_type": "code",
   "execution_count": null,
   "metadata": {},
   "outputs": [],
   "source": [
    "from IPython.core.interactiveshell import InteractiveShell\n",
    "InteractiveShell.ast_node_interactivity = \"all\"\n",
    "\n",
    "pow(2, 3)\n",
    "pow(2, 3, 4)"
   ]
  },
  {
   "cell_type": "markdown",
   "metadata": {},
   "source": [
    "**class也是一个函数**\n",
    "\n",
    "class完整的是Class bool([x])\n",
    "目前应该还用不上，我就先不写了。"
   ]
  },
  {
   "cell_type": "code",
   "execution_count": null,
   "metadata": {},
   "outputs": [],
   "source": []
  },
  {
   "cell_type": "code",
   "execution_count": null,
   "metadata": {},
   "outputs": [],
   "source": []
  },
  {
   "cell_type": "markdown",
   "metadata": {},
   "source": [
    "\n",
    "-————————————————————————————————————\n",
    "-\n",
    "\n",
    "**字符串的那一张掉了，不过影响也不大，之后自己去看。**\n",
    "-\n",
    "\n",
    "-————————————————————————————————————————\n",
    "\n"
   ]
  },
  {
   "cell_type": "code",
   "execution_count": null,
   "metadata": {},
   "outputs": [],
   "source": []
  },
  {
   "cell_type": "code",
   "execution_count": null,
   "metadata": {},
   "outputs": [],
   "source": []
  },
  {
   "cell_type": "markdown",
   "metadata": {},
   "source": [
    "# 数据容器"
   ]
  },
  {
   "cell_type": "markdown",
   "metadata": {},
   "source": [
    "**有序容器**和**无序容器**\n",
    "\n",
    "**有序容器**\n",
    ">  字符串 'string'\n",
    ">  等差数列 ‘range()’\n",
    ">  列表 'list'\n",
    ">  元组 ‘tuple’\n",
    ">  ’frozen set‘\n",
    "\n",
    "**无序容器**\n",
    ">  集合‘set’（但是set分为set与frozen set，后者是有序容器）\n",
    ">  字典‘dictionary’\n"
   ]
  },
  {
   "cell_type": "code",
   "execution_count": null,
   "metadata": {},
   "outputs": [],
   "source": [
    "for i in range(10):\n",
    "  print(i)"
   ]
  },
  {
   "cell_type": "markdown",
   "metadata": {},
   "source": [
    "###列表\n",
    "\n",
    "**列表的表达式**\n",
    "\n",
    "```python\n",
    "a_list = []\n",
    "b_list = [1, 2, 3]\n",
    "list(), or list(iterable)            # 这是 Type Casting\n",
    "[(expression with x) for x in iterable]\n",
    "```\n",
    "\n",
    "**列表的操作符**（同操作符那一章）\n",
    "\n",
    "列表的操作符和字符串一样，因为它们都是有序容器。列表的操作符有：\n",
    "\n",
    "> * 拼接：`+`（与字符串不一样的地方是，不能用空格 `' '` 了）\n",
    "> * 复制：`*`\n",
    "> * 逻辑运算：`in` 和 `not in`，`<`、`<=`、`>`、`>=`、`!=`、`==`\n",
    "\n",
    "而后两个列表也和两个字符串一样，可以被比较，即，可以进行逻辑运算；比较方式也跟字符串一样，从两个列表各自的第一个元素开始逐个比较，“一旦决出胜负马上停止”：\n",
    "\n",
    "\n",
    "**根据索引提取列表元素**\n",
    "\n",
    "```\n",
    "print()\n",
    "# 根据索引提取（Slicing）\n",
    "print(c_list[3])        # 返回索引值为 3 的元素值\n",
    "print(c_list[:])        # 相当于 c_list，返回整个列表\n",
    "print(c_list[5:])       # 从索引为 5 的值开始直到末尾\n",
    "print(c_list[:3])       # 从索引 0 开始，直到索引 3 之前（不包括 3）\n",
    "print(c_list[2:6])      # 从索引 2 开始，直到索引 6 之前（不包括 6）\n",
    "\n",
    "```\n",
    "**列表可用的内建函数**\n",
    "\n",
    "列表和字符串都是容器，它们可使用的内建函数也其实都是一样的：\n",
    "\n",
    "> * `len()`\n",
    "> * `max()`\n",
    "> * `min()`\n",
    "\n",
    "**methond**\n",
    "\n",
    "list不是一个有序容器，可以通过method对容器中对值进行排序。比如`sort（）`,`a_list.sort()` ,即将a_list里面对数从小到大进行排序。`a_list.sort(reserve=ture)` 则代表将a_list里面对数从小到大 相反的方式——即从大到小 进行排序。\n",
    "\n",
    "```\n",
    "\n",
    "b_list.sort(key=str.lower, reverse=True) \n",
    "# key 参数，默认是 None\n",
    "# key=str.lower 的意思是，在比较的时候，先全都转换成小写再比较……\n",
    "# —— 但并不改变原有值\n",
    "\n",
    "```\n",
    "\n",
    "**可变序列**还有一系列可用的 **Methods**：`a.append()`，`a.clear()`，`a.copy()`，`a.extend(t)`，`a.insert(i，x)`，`a.pop([i])`，`a.remove(x)`，`a.reverse()`……\n",
    "\n",
    "\n",
    "\n",
    "\n",
    "-----------家里面已经写了一部分set的内容了，但未提交------\n",
    "\n",
    "\n",
    "**注意事项**\n",
    "> 创建空集合的时候，必须用 set()，而不能用 {}:\n",
    "> set就相当于去重。\n",
    "> 集合可以用的函数有：`in`,`len()`,`max()`;\n",
    "> 不可用的有`del` —— 因为 Set 中的元素没有索引（它不是有序容器）。\n",
    "> 从 Set 里删除元素，得用 set.remove(elem)；而 Frozen Set 是不可变的，所以不能用 set.remove(elem) 操作。\n",
    "\n",
    "\n",
    "\n",
    "```\n",
    "admins = {'Moose', 'Joker', 'Joker'}\n",
    "moderators = {'Ann', 'Chris', 'Jane', 'Moose', 'Zero'}\n",
    "\n",
    "admins                 # 去重自动完成\n",
    "'Joker' in admins      # Joker 是否是 admins？\n",
    "'Joker' in moderators  # Joker 是否是 moderator？\n",
    "admins | moderators    # admins、moderator，或者身兼两职的，即，两个角色中的所有人 in admins or moderators or both\n",
    "admins & moderators    # 既是 admins 又是 moderator 的都有谁？in both admins and moderators\n",
    "admins - moderators    # 是 admins 但不是 moderator 的都有谁？in admins but not in moderators\n",
    "admins ^ moderators    # admins 和 moderator 中不是身兼两职的都有谁？in admins or moderator but not both\n",
    "```\n",
    "\n",
    "\n",
    "|   意义    | 操作符 | Methods                    | Methods 相当于 |\n",
    "| :------: | :----: | :---------------------: | :--: |\n",
    "| 并集     | <code>&#124;</code>    | `set.union(*others)`         | <code>set &#124; other &#124; ...</code> |\n",
    "| 交集     | `&`    | `set.intersection(*others)` | `set & other & ...` |\n",
    "| 差集     | `-`    | `set.difference(*others)` | `set - other - ...` |\n",
    "| 对称差集 | `^`    | `set.symmetric_difference(other)` | `set ^ other` |\n",
    "\n",
    "注意，并集、交集、差集的 Methods，可以接收多个集合作为参数 `(*other)`，但对称差集 Method 只接收一个参数 `(other)`。\n",
    "\n",
    "\n",
    "\n",
    "**【逻辑运算】**\n",
    "\n",
    "**set** `==` **other**\n",
    "> `True`: set 与 other 相同\n",
    "\n",
    "**set** `!=` **other**\n",
    "> `True`: set 与 other 不同\n",
    "\n",
    "**isdisjoint**(_other_)\n",
    "> `True`: set 与 other 非重合；即，`set & other == None`\n",
    "\n",
    "**issubset**(_other_)，**set** `<=` **other**\n",
    "> `True`: set 是 other 的子集\n",
    "\n",
    "**set** `<` **other**\n",
    "> `True`: set 是 other 的真子集，相当于 `set <= other && set != other`\n",
    "\n",
    "**issuperset**(_other_)，**set** `>=` **other**\n",
    "> `True`: set 是 other 的超集\n",
    "\n",
    "**set** `>` **other**\n",
    "> `True`: set 是 other 的真超集，相当于 `set >= other && set != other`\n",
    "\n",
    "\n",
    "**【更新】**\n",
    "\n",
    "\n",
    "\n",
    "**【冻结集合】**\n"
   ]
  }
 ],
 "metadata": {
  "kernelspec": {
   "display_name": "Python 3",
   "language": "python",
   "name": "python3"
  },
  "language_info": {
   "codemirror_mode": {
    "name": "ipython",
    "version": 3
   },
   "file_extension": ".py",
   "mimetype": "text/x-python",
   "name": "python",
   "nbconvert_exporter": "python",
   "pygments_lexer": "ipython3",
   "version": "3.7.1"
  }
 },
 "nbformat": 4,
 "nbformat_minor": 2
}
