{
 "cells": [
  {
   "cell_type": "markdown",
   "metadata": {},
   "source": [
    "#Part 2\n",
    "\n",
    "### 参数（上）\n",
    "\n",
    "#### 定义函数\n",
    "\n",
    "**函数取名注意事项**\n",
    ">  不能以数字作为开头\n",
    ">  不能有空格，空格最好用下划线来链接“_”\n",
    ">  注意不要取名跟关键字重名。命名之前可以查一下有哪些关键字，以避免重名，也可以查查某个字是不是关键字参数。\n",
    "\n",
    "**一些特别的函数**\n",
    ">  不接受任何参数的函数：do_something()\n",
    ">  没有return语句的函数：\n",
    ">  接受外部传进来的值\n",
    "\n",
    "**变量的作用域**\n",
    "全局变量和局域变量\n",
    "\n",
    "### 参数（下）\n",
    "\n",
    "**可以接受一系列值的位置参数**\n",
    "\n",
    "**为函数的某些参数设定默认值**\n",
    "\n",
    "**可以接收一系列值的关键字参数**\n",
    ">  .items()代表什么意思？\n",
    ">  位置参数中，两个星星与一个星星的区别是什么，两个星星代表两个位置参数吗？\n",
    "\n",
    "**函数定义时各种参数的排列顺序**\n",
    ">  参考案例\n"
   ]
  }
 ],
 "metadata": {
  "kernelspec": {
   "display_name": "Python 3",
   "language": "python",
   "name": "python3"
  },
  "language_info": {
   "codemirror_mode": {
    "name": "ipython",
    "version": 3
   },
   "file_extension": ".py",
   "mimetype": "text/x-python",
   "name": "python",
   "nbconvert_exporter": "python",
   "pygments_lexer": "ipython3",
   "version": "3.7.1"
  }
 },
 "nbformat": 4,
 "nbformat_minor": 2
}
